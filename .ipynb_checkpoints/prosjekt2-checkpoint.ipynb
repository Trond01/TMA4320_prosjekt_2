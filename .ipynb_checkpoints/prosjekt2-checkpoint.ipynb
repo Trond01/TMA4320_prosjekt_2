{
 "cells": [
  {
   "cell_type": "markdown",
   "id": "5b751c39",
   "metadata": {},
   "source": [
    "# PROSJEKT 2 _____________________"
   ]
  },
  {
   "cell_type": "markdown",
   "id": "ca934370",
   "metadata": {},
   "source": [
    "## Contents\n",
    "* [Introduction](#intro)\n",
    "* [Model and assumptions](#model)\n",
    "* [](#)\n",
    "* [](#)\n",
    "* [](#)\n",
    "* [](#)\n",
    "* [Conclusion](#conclusion)"
   ]
  },
  {
   "cell_type": "markdown",
   "id": "1feb5e21",
   "metadata": {},
   "source": [
    "## Introduction <a class=\"anchor\" id=\"intro\"></a>"
   ]
  },
  {
   "cell_type": "markdown",
   "id": "25832634",
   "metadata": {},
   "source": []
  },
  {
   "cell_type": "markdown",
   "id": "ee4b8f16",
   "metadata": {},
   "source": [
    "## Model and assumptions <a class=\"anchor\" id=\"model\"></a>"
   ]
  },
  {
   "cell_type": "markdown",
   "id": "8dc957bc",
   "metadata": {},
   "source": []
  },
  {
   "cell_type": "code",
   "execution_count": null,
   "id": "f6c3f51d",
   "metadata": {},
   "outputs": [],
   "source": []
  },
  {
   "cell_type": "code",
   "execution_count": 10,
   "id": "0fbed639",
   "metadata": {},
   "outputs": [],
   "source": [
    "## Libraries to make fast code\n",
    "from numba import jit\n",
    "from numba.core.errors import NumbaDeprecationWarning, NumbaPendingDeprecationWarning\n",
    "import warnings\n",
    "\n",
    "# Remove annoying deprecation warnings\n",
    "warnings.simplefilter('ignore', category=NumbaDeprecationWarning)\n",
    "warnings.simplefilter('ignore', category=NumbaPendingDeprecationWarning)\n",
    "\n",
    "## Libraries for maths and plotting\n",
    "import numpy as np\n",
    "import matplotlib.pyplot as plt\n",
    "from scipy.linalg import norm\n",
    "\n",
    "## Library for status bar\n",
    "from tqdm.notebook import tqdm\n",
    "\n",
    "## Defining the necessary constants\n",
    "sigma_0 = 1000\n",
    "sigma   = 500\n",
    "R       = 10\n",
    "A_s     = 1/2*np.pi*R**2\n",
    "\n",
    "\n",
    "\n"
   ]
  },
  {
   "cell_type": "code",
   "execution_count": 5,
   "id": "01da0537",
   "metadata": {},
   "outputs": [],
   "source": [
    "def plot_function(x_vals_list, y_vals_list, file_title, errorbars = np.array([0]), title = \"\",\n",
    "                  xlabel = \"\", ylabel = \"\", fig_size = (9, 5), title_scale_factor = 80,\n",
    "                  labels = False, loc = \"upper right\"):\n",
    "    \"\"\"\n",
    "    brief: plots x_vals_list[i] vs y_vals_list[i] and saves to file_title\n",
    "    :param x_vals_list: list of list, list of x_vals to be plotted\n",
    "    :param y_vals_list: list of list, list of y_vals to be plotted agains x_vals\n",
    "    :param file_title: string, filename to save the plote\n",
    "    :param errorbars: double[], if present plots errorbars on plot\n",
    "    :param title: string, title of plot\n",
    "    :param xlabel: string, label of x-axis\n",
    "    :param ylabel: string, label of y-axis\n",
    "    :param fig_size: (int, int), figure size\n",
    "    :param title_scale_factor: int, determines size of title\n",
    "    :param labels: boolean=False, if true presents plot with legends\n",
    "    :param loc: string=upper right, determines where legend is\n",
    "    :return:\n",
    "    \"\"\"\n",
    "    fig = plt.figure(figsize=fig_size)\n",
    "    if errorbars.any():\n",
    "        plt.errorbar(x_vals_list[0], y_vals_list[0], yerr = errorbars)\n",
    "    else:\n",
    "        fig = plt.figure(figsize=fig_size)\n",
    "    for i in range(len(y_vals_list)):\n",
    "        plt.plot(x_vals_list[i], y_vals_list[i])\n",
    "    title_size = int(title_scale_factor * fig_size[0] / len(title))\n",
    "    plt.title(title, size = title_size)\n",
    "    label_size = int(2/3 * title_size)\n",
    "    plt.xlabel(xlabel, size = label_size)\n",
    "    plt.ylabel(ylabel, size = label_size)\n",
    "    if labels:\n",
    "        plt.legend(labels, loc = loc)\n",
    "    fig.savefig(f'figures/{file_title}.png') # save first frame"
   ]
  },
  {
   "cell_type": "markdown",
   "id": "712fba8c",
   "metadata": {},
   "source": [
    "## FØRSTE DEL <a class=\"anchor\" id=\"FØRSTE\"></a>"
   ]
  },
  {
   "cell_type": "code",
   "execution_count": 1,
   "id": "162f3a5b",
   "metadata": {},
   "outputs": [
    {
     "data": {
      "image/png": "[encoded data removed]",
      "text/plain": [
       "<Figure size 432x288 with 2 Axes>"
      ]
     },
     "metadata": {
      "needs_background": "light"
     },
     "output_type": "display_data"
    }
   ],
   "source": [
    "import matplotlib.pyplot as plt\n",
    "import numpy as np\n",
    "\n",
    "def victor():\n",
    "    def func(x, y):\n",
    "        val = 2.8*x**2 * (x**2*(2.5*x**2+y**2-2)+1.2*y**2 * (y*(3*y-0.75)-6.0311)+3.09)+0.98*y**2 * ((y**2-3.01)*y**2+3)-1.005\n",
    "        return abs(val) < 0.02\n",
    "    n = 3000\n",
    "    x = np.linspace(-2, 2, n)\n",
    "    y = np.linspace(-2, 2, n)\n",
    "    grid = np.zeros((n, n))\n",
    "    y, x = np.meshgrid(x, y)\n",
    "    z = func(x, y)\n",
    "    z = z[:-1, :-1]\n",
    "    z_min, z_max = 0, 1\n",
    "    fig, ax = plt.subplots()\n",
    "    c = ax.pcolormesh(x, y, z, vmin=z_min, vmax=z_max)\n",
    "    ax.set_title('Viktooooor')\n",
    "    ax.axis([x.min(), x.max(), y.min(), y.max()])\n",
    "    fig.colorbar(c, ax=ax)\n",
    "    plt.show()\n",
    "\n",
    "victor()"
   ]
  },
  {
   "cell_type": "code",
   "execution_count": null,
   "id": "2418a422",
   "metadata": {},
   "outputs": [],
   "source": []
  },
  {
   "cell_type": "markdown",
   "id": "b4a81acf",
   "metadata": {},
   "source": [
    "\n",
    "\n",
    "Solve the equation for the angle ....\n",
    "\n",
    "$$f(\\beta) = \\beta - \\sin {\\beta} - \\pi \\sigma / \\sigma_0 = 0.$$\n",
    "\n",
    "Differentiating:\n",
    "\n",
    "$$f'(\\beta) = 1 - \\cos{\\beta}$$\n",
    "\n",
    "\n"
   ]
  },
  {
   "cell_type": "code",
   "execution_count": 18,
   "id": "b2f5204b",
   "metadata": {},
   "outputs": [
    {
     "name": "stdout",
     "output_type": "stream",
     "text": [
      "k =  0, x =  2.000000000000000, f(x) = -4.801e-01\n",
      "k =  1, x =  2.339014105903838, f(x) =  4.907e-02\n",
      "k =  2, x =  2.310063196572691, f(x) =  3.042e-04\n",
      "k =  3, x =  2.309881467301467, f(x) =  1.220e-08\n",
      "k =  4, x =  2.309881460010057, f(x) =  4.441e-16\n"
     ]
    },
    {
     "data": {
      "text/plain": [
       "(2.3098814600100575, 5)"
      ]
     },
     "execution_count": 18,
     "metadata": {},
     "output_type": "execute_result"
    }
   ],
   "source": [
    "# 1a\n",
    "\n",
    "def newton(f, df, x0, tol=1.e-8, max_iter=30):\n",
    "    \"\"\"\n",
    "    brief: Solves the equation f(x)=0 with Newtons method\n",
    "    :param f: the function f(x)\n",
    "    :param df: the derivative of f(x)\n",
    "    :param x0: initial value\n",
    "    :param tol: tolerance, if f(x)<tol we accept x\n",
    "    :return: the accepted root, number of iterations\n",
    "    \"\"\"\n",
    "    x = x0\n",
    "    for k in range(max_iter):\n",
    "        print(f\"k ={k:3d}, x = {x:18.15f}, f(x) = {f(x):10.3e}\")\n",
    "        fx = f(x)\n",
    "        if norm(fx) < tol: # Accept solution \n",
    "            break \n",
    "        x = x - fx/df(x)   # One Newton-iteration\n",
    "    return x, k+1\n",
    "\n",
    "def f(b):\n",
    "    return b - np.sin(b) - np.pi*sigma/sigma_0\n",
    "def df(b):\n",
    "    return 1 - np.cos(b)\n",
    "\n",
    "newton(f, df, 2)\n",
    "\n"
   ]
  },
  {
   "cell_type": "code",
   "execution_count": null,
   "id": "37014f70",
   "metadata": {},
   "outputs": [],
   "source": [
    "# 1b"
   ]
  },
  {
   "cell_type": "code",
   "execution_count": null,
   "id": "66949218",
   "metadata": {},
   "outputs": [],
   "source": [
    "# 1c"
   ]
  },
  {
   "cell_type": "code",
   "execution_count": null,
   "id": "856f1a90",
   "metadata": {},
   "outputs": [],
   "source": [
    "# 1d"
   ]
  },
  {
   "cell_type": "code",
   "execution_count": null,
   "id": "0448def4",
   "metadata": {},
   "outputs": [],
   "source": [
    "# 1e"
   ]
  },
  {
   "cell_type": "code",
   "execution_count": null,
   "id": "b319acba",
   "metadata": {},
   "outputs": [],
   "source": [
    "# 1f"
   ]
  },
  {
   "cell_type": "code",
   "execution_count": null,
   "id": "64869c8f",
   "metadata": {},
   "outputs": [],
   "source": [
    "# 1g"
   ]
  },
  {
   "cell_type": "code",
   "execution_count": null,
   "id": "f953f54c",
   "metadata": {},
   "outputs": [],
   "source": [
    "# 1h"
   ]
  },
  {
   "cell_type": "code",
   "execution_count": null,
   "id": "f3c45b8f",
   "metadata": {},
   "outputs": [],
   "source": []
  },
  {
   "cell_type": "code",
   "execution_count": null,
   "id": "b232c8a6",
   "metadata": {},
   "outputs": [],
   "source": []
  },
  {
   "cell_type": "code",
   "execution_count": null,
   "id": "b7491b48",
   "metadata": {},
   "outputs": [],
   "source": [
    "# 2a"
   ]
  },
  {
   "cell_type": "code",
   "execution_count": null,
   "id": "b1ccf7a9",
   "metadata": {},
   "outputs": [],
   "source": [
    "# 2b"
   ]
  },
  {
   "cell_type": "code",
   "execution_count": 3,
   "id": "ea3e8d42",
   "metadata": {},
   "outputs": [],
   "source": [
    "# 2c"
   ]
  },
  {
   "cell_type": "code",
   "execution_count": null,
   "id": "41fc49ba",
   "metadata": {},
   "outputs": [],
   "source": [
    "# 2d"
   ]
  },
  {
   "cell_type": "code",
   "execution_count": null,
   "id": "bb6eb98d",
   "metadata": {},
   "outputs": [],
   "source": [
    "# 2e"
   ]
  },
  {
   "cell_type": "code",
   "execution_count": null,
   "id": "32cadc58",
   "metadata": {},
   "outputs": [],
   "source": [
    "# 2f"
   ]
  },
  {
   "cell_type": "code",
   "execution_count": null,
   "id": "4ae25181",
   "metadata": {},
   "outputs": [],
   "source": [
    "# 2g"
   ]
  },
  {
   "cell_type": "code",
   "execution_count": null,
   "id": "b9c0a1af",
   "metadata": {},
   "outputs": [],
   "source": [
    "# 2h"
   ]
  },
  {
   "cell_type": "code",
   "execution_count": null,
   "id": "eec3b758",
   "metadata": {},
   "outputs": [],
   "source": []
  },
  {
   "cell_type": "markdown",
   "id": "3542c19c",
   "metadata": {},
   "source": [
    "## Conclusion <a class=\"anchor\" id=\"conclusion\"></a>"
   ]
  },
  {
   "cell_type": "markdown",
   "id": "360f68a4",
   "metadata": {},
   "source": []
  }
 ],
 "metadata": {
  "kernelspec": {
   "display_name": "Python 3 (ipykernel)",
   "language": "python",
   "name": "python3"
  },
  "language_info": {
   "codemirror_mode": {
    "name": "ipython",
    "version": 3
   },
   "file_extension": ".py",
   "mimetype": "text/x-python",
   "name": "python",
   "nbconvert_exporter": "python",
   "pygments_lexer": "ipython3",
   "version": "3.9.7"
  }
 },
 "nbformat": 4,
 "nbformat_minor": 5
}
