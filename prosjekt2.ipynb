{
 "cells": [
  {
   "cell_type": "markdown",
   "id": "5b751c39",
   "metadata": {},
   "source": [
    "# PROSJEKT 2 _____________________"
   ]
  },
  {
   "cell_type": "markdown",
   "id": "8e33487f",
   "metadata": {},
   "source": [
    "**TING Å ORDNE**\n",
    "- likningsreferanse funker nå bare i samme celle... Gamlemåten?\n"
   ]
  },
  {
   "cell_type": "markdown",
   "id": "ca934370",
   "metadata": {},
   "source": [
    "## Contents\n",
    "* [Introduction](#intro)\n",
    "* [Model and assumptions](#model)\n",
    "* [](#)\n",
    "* [](#)\n",
    "* [](#)\n",
    "* [](#)\n",
    "* [Conclusion](#conclusion)"
   ]
  },
  {
   "cell_type": "markdown",
   "id": "1feb5e21",
   "metadata": {},
   "source": [
    "## Introduction <a class=\"anchor\" id=\"intro\"></a>"
   ]
  },
  {
   "cell_type": "markdown",
   "id": "25832634",
   "metadata": {},
   "source": [
    "In this project we will study \\\\\n",
    "\n",
    "\\\n",
    "\n",
    "\\\n",
    "\n",
    "\\\n",
    "\n",
    "Adding ... to the model \\\\\n",
    "\\\\\n",
    "\\\\\n",
    "\n",
    "\n",
    "\n",
    "A note on figures and animations??? Vi får se hvor hard vi blir slakta for sånn vi gjorde det sist. "
   ]
  },
  {
   "cell_type": "code",
   "execution_count": 1,
   "id": "fa7f51d2",
   "metadata": {},
   "outputs": [
    {
     "data": {
      "application/javascript": [
       "MathJax.Hub.Config({\n",
       "    TeX: { equationNumbers: { autoNumber: \"AMS\" } }\n",
       "});\n"
      ],
      "text/plain": [
       "<IPython.core.display.Javascript object>"
      ]
     },
     "metadata": {},
     "output_type": "display_data"
    }
   ],
   "source": [
    "%%javascript\n",
    "MathJax.Hub.Config({\n",
    "    TeX: { equationNumbers: { autoNumber: \"AMS\" } }\n",
    "});"
   ]
  },
  {
   "cell_type": "markdown",
   "id": "e78a18da",
   "metadata": {},
   "source": [
    "## Theory behind methods <a class=\"anchor\" id=\"method\"></a>"
   ]
  },
  {
   "cell_type": "markdown",
   "id": "a8af44df",
   "metadata": {},
   "source": [
    "**HVIS VI FØLER DET ER BEDRE Å SAMLE DET LITT OG REFERERE SENERE???**"
   ]
  },
  {
   "cell_type": "code",
   "execution_count": 2,
   "id": "039290c8",
   "metadata": {},
   "outputs": [],
   "source": [
    "## Libraries for maths and plotting\n",
    "import numpy as np\n",
    "import matplotlib.pyplot as plt\n",
    "from scipy.linalg import norm\n",
    "\n",
    "## Library for status bar\n",
    "from tqdm.notebook import tqdm"
   ]
  },
  {
   "cell_type": "code",
   "execution_count": null,
   "id": "73fc7f2d",
   "metadata": {},
   "outputs": [],
   "source": []
  },
  {
   "cell_type": "markdown",
   "id": "0ed9a434",
   "metadata": {},
   "source": [
    "**Newtons method**\n",
    "\n"
   ]
  },
  {
   "cell_type": "code",
   "execution_count": 3,
   "id": "b2f5204b",
   "metadata": {},
   "outputs": [],
   "source": [
    "# 1a\n",
    "def newton(f, df, x0, tol=1.e-10, max_iter=30, variable = \"x\"):\n",
    "    \"\"\"\n",
    "    brief: Solves the equation f(x)=0 with Newtons method\n",
    "    :param f: the function f(x)\n",
    "    :param df: the derivative of f(x)\n",
    "    :param x0: initial value\n",
    "    :param tol: tolerance, if f(x)<tol we accept x\n",
    "    :return: the accepted root, number of iterations\n",
    "    \"\"\"\n",
    "    x = x0\n",
    "    for k in range(max_iter):\n",
    "        print(f\"k ={k:3d}, {variable} = {x:18.15f}, f(x) = {f(x):10.3e}\")\n",
    "        fx = f(x)\n",
    "        if norm(fx) < tol: # Accept solution \n",
    "            break \n",
    "        x = x - fx/df(x)   # One Newton-iteration\n",
    "    return x, k+1"
   ]
  },
  {
   "cell_type": "code",
   "execution_count": null,
   "id": "82f57a5a",
   "metadata": {},
   "outputs": [],
   "source": []
  },
  {
   "cell_type": "markdown",
   "id": "ee4b8f16",
   "metadata": {},
   "source": [
    "## Model and assumptions <a class=\"anchor\" id=\"model\"></a>"
   ]
  },
  {
   "cell_type": "markdown",
   "id": "8dc957bc",
   "metadata": {},
   "source": [
    "\n",
    "jj\n",
    "\n",
    "\n"
   ]
  },
  {
   "cell_type": "markdown",
   "id": "f7917cda",
   "metadata": {},
   "source": [
    "<a id=\"fig1\"></a>\n",
    "\n",
    "\n",
    "<img src=boat_figure_from_oppgavetekst_horisontal.jpg alt=\"fishy\" class=\"bg-primary mb-1\" width=\"800px\">\n",
    "\n",
    "***Figure 1*** *: A sketch of our boat-model. a) The boat in equilibrium. b) The boat after displacement and rotation about the centre of mass, $C$.*\n",
    "\n",
    "\n"
   ]
  },
  {
   "cell_type": "markdown",
   "id": "e4db7189",
   "metadata": {},
   "source": [
    "**The ship**\n",
    "\n",
    "We will assume that the ship is long enough to neglect effects on its ends, and we are left with a two dimentional problem. We let the ship have the shape of a half-sircle with the radius $R=10 \\textrm{ m}$, and give it a uniform mass distribution with density $\\sigma = 500 \\textrm{ kg/m}^2$. For such a shape the mass centre $C$ lies a distance \n",
    "\n",
    "$$ h_{CM} = 4R/3\\pi, $$\n",
    "\n",
    "below the ship's metacentre $M$. The moment of inertia about $C$ is given by:\n",
    "\n",
    "$$I_C = \\frac{1}{2} m R^2 \\left( 1-\\frac{32}{9\\pi^2} \\right).$$"
   ]
  },
  {
   "cell_type": "code",
   "execution_count": 4,
   "id": "0fbed639",
   "metadata": {},
   "outputs": [],
   "source": [
    "## Defining constants that will remain the same\n",
    "sigma_0 = 1000\n",
    "sigma   = 500\n",
    "R       = 10\n",
    "A_s     = 1/2*np.pi*R**2\n",
    "g       = 9.81\n",
    "h_CM    = 4*R/(3*np.pi)\n",
    "m       = sigma * A_s         # mass of one metre boat \n",
    "I_C     = 1/2*m*R**2*(1 - 32/(9*np.pi**2))"
   ]
  },
  {
   "cell_type": "markdown",
   "id": "ea6ac315",
   "metadata": {},
   "source": [
    "With Arkimedes law we can show that the ship, in equalibrium, displaces an area $A_0$ of water:\n",
    "\n",
    "$$A_0 = \\sigma \\pi R^2 / 2 \\sigma_0.$$\n",
    "\n",
    "As the ship rotates about $C$ the amount of displaced water varies. We introduce the angle $\\gamma$ shown in **ref**, and let $\\gamma_{\\textrm{equil}} = \\beta$. Some geometry gives us the displaced-water-area $A$ in terms of $\\gamma$: \n",
    "\n",
    "$$A = \\frac{1}{2} R^2 (\\gamma - \\sin{\\gamma}).$$"
   ]
  },
  {
   "cell_type": "code",
   "execution_count": 5,
   "id": "a5edb5ae",
   "metadata": {},
   "outputs": [],
   "source": [
    "def find_A(gamma):\n",
    "    return 1/2*R**2*(gamma-np.sin(gamma))"
   ]
  },
  {
   "cell_type": "markdown",
   "id": "7527410c",
   "metadata": {},
   "source": [
    "At $\\gamma=\\beta$ we have $A=A_0$ giving an implicit equation for $\\beta$:\n",
    "\n",
    "$$\n",
    "\\begin{align}\n",
    "f(\\beta) &= \\beta - \\sin {\\beta} - \\pi \\sigma / \\sigma_0 = 0.\n",
    "\\end{align}\n",
    "$$"
   ]
  },
  {
   "cell_type": "markdown",
   "id": "b4a81acf",
   "metadata": {},
   "source": [
    "We will solve this equation by Newtons method. As discussen in **REF METHODS ...** we need the derivative:\n",
    "\n",
    "$$f'(\\beta) = 1 - \\cos{\\beta}.$$"
   ]
  },
  {
   "cell_type": "code",
   "execution_count": 6,
   "id": "e1e91c4c",
   "metadata": {},
   "outputs": [
    {
     "name": "stdout",
     "output_type": "stream",
     "text": [
      "k =  0, β =  2.000000000000000, f(x) = -4.801e-01\n",
      "k =  1, β =  2.339014105903838, f(x) =  4.907e-02\n",
      "k =  2, β =  2.310063196572691, f(x) =  3.042e-04\n",
      "k =  3, β =  2.309881467301467, f(x) =  1.220e-08\n",
      "k =  4, β =  2.309881460010057, f(x) =  4.441e-16\n"
     ]
    },
    {
     "data": {
      "image/png": "[encoded data removed]",
      "text/plain": [
       "<Figure size 432x288 with 1 Axes>"
      ]
     },
     "metadata": {
      "needs_background": "light"
     },
     "output_type": "display_data"
    }
   ],
   "source": [
    "def find_beta_newton(b0, plot = False):\n",
    "    def f(b):\n",
    "        return b - np.sin(b) - np.pi*sigma/sigma_0\n",
    "    def df(b):\n",
    "        return 1 - np.cos(b)\n",
    "    beta = newton(f, df, b0, variable = \"\\u03B2\")[0]\n",
    "    if plot:\n",
    "        x = np.arange(0, np.pi, 0.01)\n",
    "        plt.plot(x, f(x))\n",
    "        plt.plot(x, 0*x)\n",
    "    return beta\n",
    "\n",
    "beta = find_beta_newton(2, plot = True)\n"
   ]
  },
  {
   "cell_type": "markdown",
   "id": "146f9ede",
   "metadata": {},
   "source": [
    "We need to keep track of $\\gamma$ as it derermines the displaced water. It is determined by $\\theta$ and $y_C$. We have $\\cos{\\gamma/2}=y_M/R$, wich gives: **TODO, SKAL VI UTLEDE HER?**\n",
    "\n",
    "$$ \\gamma (\\theta, y_C)= 2\\arccos{\\left( \\cos{\\frac{\\beta}{2}} - \\frac{4}{3\\pi}(1-\\cos{\\theta}) + \\frac{y_C - y_C^0}{R} \\right)}.$$"
   ]
  },
  {
   "cell_type": "code",
   "execution_count": 7,
   "id": "6ba399d7",
   "metadata": {},
   "outputs": [],
   "source": [
    "def find_gamma(theta, yC):\n",
    "    return 2*np.arccos(np.cos(beta/2) - 4/(3*np.pi)*(1-np.cos(theta)) + (yC-yC0)/R)"
   ]
  },
  {
   "cell_type": "markdown",
   "id": "f4e02f37",
   "metadata": {},
   "source": [
    "An important point is the centre of the buoyant force, $B$, wich lies a distance $Y_{MB}$ below $M$:\n",
    "\n",
    "$$Y_{MB} = R\\cdot \\frac{4 \\sin^3{\\gamma/2}}{3(\\gamma - \\sin{\\gamma})}.$$"
   ]
  },
  {
   "cell_type": "code",
   "execution_count": 8,
   "id": "7fc5fb77",
   "metadata": {},
   "outputs": [],
   "source": [
    "def find_yMB(gamma):\n",
    "    return R*4*sin(gamma/2)**3 / (3*(gamma - np.sin(gamma)))"
   ]
  },
  {
   "cell_type": "markdown",
   "id": "6e24fdae",
   "metadata": {},
   "source": [
    "We let $y=0$ at the water level, and for a ship in equilibrium we define:\n",
    "\n",
    "$$\n",
    "\\begin{align*}\n",
    "y_M^0 &= R \\cos{\\beta/2} \\\\\n",
    "y_C^0 &= y_M^0 - h_{CM} = R \\cos{\\beta/2} - 4R/3\\pi \\\\\n",
    "y_B^0 &= y_M^0 - Y_{MB}(\\beta)= R \\cos{\\beta/2} - R\\cdot \\frac{4 \\sin^3{\\beta/2}}{3(\\beta - \\sin{\\beta})} \\\\\n",
    "y_D^0 &= y_M^0 - R= R \\cos{\\beta/2} - R.\n",
    "\\end{align*}\n",
    "$$"
   ]
  },
  {
   "cell_type": "markdown",
   "id": "02e75490",
   "metadata": {},
   "source": [
    "When solving the motion of the boat we will keep track of $\\theta$ and $y_C$. Always knowing $\\gamma$ means we can compute $y_M$, $y_B$ and $y_D$:\n",
    "\n",
    "$$\n",
    "\\begin{align*}\n",
    "y_M (\\theta, y_C) &= R \\cos{\\gamma/2} \\\\\n",
    "y_B (\\theta, y_C) &= y_M - Y_{MB}(\\gamma) \\\\\n",
    "y_D (\\theta, y_C) &= y_M - R.\n",
    "\\end{align*}\n",
    "$$\n",
    "\n",
    "ALSO x\n",
    "\n",
    "$$\n",
    "\\begin{align*}\n",
    "x_M (\\theta, y_C) &= x_C + h_{CM} \\sin{\\theta} \\\\\n",
    "x_B (\\theta, y_C) &= x_M  \\\\\n",
    "x_D (\\theta, y_C) &= x_M.\n",
    "\\end{align*}\n",
    "$$\n",
    "\n"
   ]
  },
  {
   "cell_type": "code",
   "execution_count": 9,
   "id": "1e77bb5d",
   "metadata": {},
   "outputs": [],
   "source": [
    "def find_yM(gamma):\n",
    "    return R*np.cos(gamma/2)\n",
    "def find_yB(gamma):\n",
    "    return find_yM(gamma) - find_yMB(gamma)\n",
    "def find_yD(gamma):\n",
    "    return find_yM(gamma) - R\n",
    "\n",
    "def find_xMBD(theta, xC):\n",
    "    return x_C + h_CM*np.sin(theta)"
   ]
  },
  {
   "cell_type": "markdown",
   "id": "de421f54",
   "metadata": {},
   "source": [
    "In [figure 1](#fig1)"
   ]
  },
  {
   "cell_type": "markdown",
   "id": "56f9dd39",
   "metadata": {},
   "source": [
    "**Forces on the ship**\n",
    "\n",
    "\n"
   ]
  },
  {
   "cell_type": "markdown",
   "id": "f960d214",
   "metadata": {},
   "source": [
    "Gravity acts vertically pulling the boat down with a constant force:\n",
    "\n",
    "$$ \\vec F_G = -mg \\hat y. $$\n",
    "\n",
    "A net buoyant force pushes the boat upwards counteracting gravity. The net force acts in the centre of buoyancy, $B$, wich would have been the mass centre of the displaced water. The force is proportional to our $\\gamma$-dependent displaced area:\n",
    "\n",
    "$$ \\vec F_B = \\sigma_0 A g \\hat y = \\frac{\\sigma_0gR^2}{2} (\\gamma - \\sin{\\gamma}) \\hat y.$$\n",
    "\n",
    "We will model the friction between the boat and the water as proportional to the contact-area and angular velocity **HER MÅ VI SJEKKE OLA!!!!!!!!!! angular eller ikke...**. We let the force act in horisontaly in the deepest point $D$.\n",
    "\n",
    "$$\\vec f = -k_f R \\gamma \\omega \\hat x.$$\n",
    "\n",
    "We model the wind/wave force as a horisontal harmonic force acting along the water:\n",
    "\n",
    "$$F_w(t) = F_0 \\cos{\\omega_w t} \\hat x$$\n"
   ]
  },
  {
   "cell_type": "code",
   "execution_count": 10,
   "id": "905b1888",
   "metadata": {},
   "outputs": [],
   "source": [
    "def F_G():\n",
    "    return -m*g\n",
    "def find_F_buoyant(displaced_area):\n",
    "    return sigma_0*g*displaced_area\n",
    "def find_F_friction(gamma, omega, k_f):\n",
    "    return -k_f*R*gamma*omega\n",
    "def find_F_waves_wind(t, F_0, omega_w):\n",
    "    return F_0*np.cos(omega_w*t)"
   ]
  },
  {
   "cell_type": "markdown",
   "id": "393ec629",
   "metadata": {},
   "source": [
    "Torques +++\n",
    "\n",
    "$$\n",
    "\\begin{align}\n",
    "    \\vec \\tau_B &= -F_B h_{CM} \\sin{\\theta} \\hat z\\\\\n",
    "    \\vec \\tau_f &= f\\left( y_C - (R\\cos{\\gamma/2}-1) \\right) \\hat z\\\\\n",
    "    \\vec \\tau_w &= F_w y_C \\hat z\n",
    "\\end{align}\n",
    "$$\n"
   ]
  },
  {
   "cell_type": "code",
   "execution_count": 11,
   "id": "560cd2bc",
   "metadata": {},
   "outputs": [],
   "source": [
    "def find_tau_buoyant(theta, F_B):\n",
    "    return - F_B*h_CM*np.sin(theta)\n",
    "def find_tau_friction(y_C, gamma, f):\n",
    "    return f*(y_C - (R*np.cos(gamma/2) - 1))\n",
    "def find_tau_waves_wind(y_C, F_w):\n",
    "    return F_w*y_C"
   ]
  },
  {
   "cell_type": "markdown",
   "id": "fcc38fa6",
   "metadata": {},
   "source": [
    "**Moving cargo**"
   ]
  },
  {
   "cell_type": "markdown",
   "id": "d5e1b24a",
   "metadata": {},
   "source": [
    "*Figure and coordinate system*\n",
    "distance s_L ...."
   ]
  },
  {
   "cell_type": "code",
   "execution_count": null,
   "id": "f512b050",
   "metadata": {},
   "outputs": [],
   "source": []
  },
  {
   "cell_type": "markdown",
   "id": "4761ad8a",
   "metadata": {},
   "source": [
    "While the cargo is on the ship the forces acting from the cargo in the ship are given by:\n",
    "\n",
    "$$\n",
    "\\begin{align}\n",
    "    F_{L, x} (\\theta) &= m_L g \\cos{\\theta} \\sin{\\theta} \n",
    "    \\tag {34a} \\\\\n",
    "    F_{L, y} (\\theta) &= - m_L g \\cos^2{\\theta}\n",
    "    \\tag {34b}\n",
    "\\end{align}\n",
    "$$\n",
    "\n",
    "It follows from Newtons third law that the forces on the cargo are given by:\n",
    "\n",
    "$$\n",
    "\\begin{align}\n",
    "    F_{L, x}' (\\theta) &= -m_L g \\cos{\\theta} \\sin{\\theta} \n",
    "    \\tag {34a} \\\\\n",
    "    F_{L, y}' (\\theta) &= m_L g \\cos^2{\\theta}\n",
    "    \\tag {34b}\n",
    "\\end{align}\n",
    "$$"
   ]
  },
  {
   "cell_type": "code",
   "execution_count": 12,
   "id": "e2f41181",
   "metadata": {},
   "outputs": [],
   "source": [
    "m_L = 123456789876543\n",
    "def find_F_Lx(theta):\n",
    "    return m_L*g*np.cos(theta)*np.sin(theta)\n",
    "def find_F_Ly(theta):\n",
    "    return -m_L*g*np.cos(theta)**2"
   ]
  },
  {
   "cell_type": "markdown",
   "id": "24a54881",
   "metadata": {},
   "source": [
    "$$\n",
    "\\vec \\tau (\\theta, s_L) = - m_L g \\cos{\\theta} s_L \\hat z\n",
    "$$"
   ]
  },
  {
   "cell_type": "code",
   "execution_count": null,
   "id": "52819004",
   "metadata": {},
   "outputs": [],
   "source": []
  },
  {
   "cell_type": "markdown",
   "id": "b006ec22",
   "metadata": {},
   "source": [
    "**Capsizing thr boat**\n",
    "\n",
    "We say that our boat has capsized if part of the deck is below the water level. (The engineers thought it was a bright idea to have a drain into a ... INSERT JOKE).\n",
    "\n",
    "**FIGURE HERE?**\n",
    "\n",
    "To see if our boat has capsized we keep track of the y-coordinate of the left and right endpoints $E_L$ and $E_R$:\n",
    "\n",
    "$$\n",
    "\\begin{align}\n",
    "    y_{E_L} &= y_M - R \\sin{\\theta} \\\\\n",
    "    y_{E_R} &= y_M + R \\sin{\\theta}\n",
    "\\end{align}\n",
    "$$"
   ]
  },
  {
   "cell_type": "code",
   "execution_count": 13,
   "id": "ceabe8f0",
   "metadata": {},
   "outputs": [],
   "source": [
    "def boat_has_capsized(theta, yC):\n",
    "    yM = find_yM(find_gamma(theta, yC))\n",
    "    yEL = yM - R*np.sin(theta)\n",
    "    yER = yM + R*np.sin(theta)\n",
    "    return (yEL < 0 or yER < 0)"
   ]
  },
  {
   "cell_type": "code",
   "execution_count": null,
   "id": "665e2f5d",
   "metadata": {},
   "outputs": [],
   "source": []
  },
  {
   "cell_type": "markdown",
   "id": "90adf2b6",
   "metadata": {},
   "source": [
    "Introducing the vector \n",
    "$\\vec{w} = \\begin{bmatrix} \\theta(t) & \n",
    "                           \\omega(t) & \n",
    "                           x_C(t) & \n",
    "                           v_{x_C}(t) & \n",
    "                           y_C(t) & \n",
    "                           v_{y_C}(t) & \n",
    "                           s_L(t) & \n",
    "                           v_{L}(t)\\end{bmatrix}^T$ \n",
    "we can write our problem on the standard form $\\frac{\\textrm{d}\\vec{w}}{\\textrm{d}t} = \\vec f(t, \\vec w) $:\n",
    "\n",
    "$$ \\frac{\\textrm{d}}{\\textrm{d}t} \\begin{bmatrix} \\theta(t) \\\\\n",
    "                           \\omega(t) \\\\\n",
    "                           x_C(t) \\\\\n",
    "                           v_{C, x}(t) \\\\\n",
    "                           y_C(t) \\\\\n",
    "                           v_{C, y}(t) \\\\\n",
    "                           s_L(t) \\\\\n",
    "                           v_{L}(t)\\end{bmatrix} \n",
    "= \\begin{bmatrix} \\omega(t) \\\\ \n",
    "                  \\Sigma\\tau_C(t)/I_C \\\\\n",
    "                  v_{C, x}(t) \\\\\n",
    "                  \\Sigma F_{C, x}(t)/m \\\\\n",
    "                  v_{C, y}(t) \\\\\n",
    "                  \\Sigma F_{C, y}(t)/m \\\\\n",
    "                  v_{L}(t)\\\\\n",
    "                  \\Sigma F_{L, \\hat s}(t)/m\\end{bmatrix}.$$\n"
   ]
  },
  {
   "cell_type": "code",
   "execution_count": null,
   "id": "25910d73",
   "metadata": {},
   "outputs": [],
   "source": []
  },
  {
   "cell_type": "markdown",
   "id": "fa9288f3",
   "metadata": {},
   "source": [
    "## VISUALISERING _____ TITTEL BYTTES"
   ]
  },
  {
   "cell_type": "markdown",
   "id": "5702b9de",
   "metadata": {},
   "source": [
    "A note on the animation-code ...\n",
    "\n",
    "modified to save animations +++\n",
    "\n",
    "blblb\n"
   ]
  },
  {
   "cell_type": "code",
   "execution_count": 14,
   "id": "66564fdb",
   "metadata": {},
   "outputs": [],
   "source": [
    "import matplotlib.animation\n",
    "from IPython.display import HTML, clear_output\n",
    "\n",
    "def animate_boat(t, theta, x_C, y_C, s_L=[], gjerde=False, stepsize=0.01, vis_akse_verdier=False, gif_name = \"TEST\"):\n",
    "    \"\"\"\n",
    "    \"\"\"\n",
    "    fig, ax = plt.subplots()\n",
    "    boat,           = ax.plot([], [], color=\"k\", linewidth=2)\n",
    "    deck,           = ax.plot([], [], color=\"k\", linewidth=2)\n",
    "    sea_surface,    = ax.plot([-R*10, R* 10], [0, 0], color='blue', linewidth=2)  # The surface\n",
    "    last,           = ax.plot([], [], color=\"r\", marker=\"o\", markersize=10)\n",
    "    CM,             = ax.plot([], [], color=\"g\", marker=\"o\", markersize=10)\n",
    "    MS,             = ax.plot([], [], color=\"y\", marker=\"o\", markersize=10)\n",
    "    venstre_gjerde, = ax.plot([], [], color=\"k\", marker=\"|\", markersize=25)\n",
    "    høyre_gjerde,   = ax.plot([], [], color=\"k\", marker=\"|\", markersize=25)\n",
    "    ax.set_xlim([-R*1.3, R* 1.3])\n",
    "    ax.set_ylim([-R*1.1, R* 1.1])\n",
    "    ax.set_xlabel('$x$')\n",
    "    ax.set_ylabel('$y$')\n",
    "    ax.set_aspect(\"equal\")\n",
    "    props = dict(boxstyle='round', facecolor='wheat', alpha=0.5)\n",
    "    textbox_theory = ax.text(3, 10, '', fontsize=12,\n",
    "                             ha = 'left', va = 'top')\n",
    "                             \n",
    "    # call this function for every frame in the animation\n",
    "    def animate(M):\n",
    "        ax.set_xlim([-R * 1.1 + np.amin(x_C), R * 1.1 + np.amax(x_C)])\n",
    "        ax.set_ylim([-R*1.1, R* 1.1])\n",
    "        angle_values = np.linspace(0, np.pi, 100)\n",
    "        metasenter_x = x_C[M] - h_CM * np.sin(theta[M])\n",
    "        metasenter_y = y_C[M] + h_CM * np.cos(theta[M])\n",
    "        xs = R * np.cos(angle_values + np.pi + theta[M]) + metasenter_x\n",
    "        ys = R * np.sin(angle_values + np.pi + theta[M]) + metasenter_y\n",
    "        boat.set_data(xs, ys)\n",
    "        deck.set_data([xs[0], xs[-1]], [ys[0], ys[-1]])\n",
    "        if False: #s_L[M] !=-42:\n",
    "            last.set_data(metasenter_x + s_L[M] * np.cos(theta[M]),\n",
    "                          metasenter_y + s_L[M] * np.sin(theta[M]))\n",
    "        CM.set_data(x_C[M], y_C[M])\n",
    "        MS.set_data(metasenter_x, metasenter_y)\n",
    "        if gjerde:\n",
    "            venstre_gjerde.set_data([metasenter_x - R * np.cos(theta[M])], [metasenter_y - R * np.sin(theta[M])])\n",
    "            høyre_gjerde.set_data([metasenter_x + R * np.cos(theta[M])], [metasenter_y + R * np.sin(theta[M])])\n",
    "        theta_string= r'$\\theta = %.2f$' % (theta[M] * 180 / np.pi) + r\"$\\degree$\"\n",
    "        time_string = '$t =  %.2f$' % (t[M])\n",
    "        textbox_theory.set_text(\n",
    "            theta_string + '\\n' + time_string)\n",
    "\n",
    "        if M % 1000 == 0:\n",
    "            print(M)\n",
    "        \n",
    "    # create matplotlib animation object\n",
    "    ani = matplotlib.animation.FuncAnimation(fig, animate, frames=len(t), repeat=False, interval=1)\n",
    "    ani.save(f'animations/{gif_name}.gif')"
   ]
  },
  {
   "cell_type": "markdown",
   "id": "1ffed81b",
   "metadata": {},
   "source": [
    "Plotting ..."
   ]
  },
  {
   "cell_type": "code",
   "execution_count": 15,
   "id": "01da0537",
   "metadata": {},
   "outputs": [],
   "source": [
    "def plot_function(x_vals_list, y_vals_list, file_title, title = \"\",\n",
    "                  xlabel = \"\", ylabel = \"\", fig_size = (9, 5), title_scale_factor = 80,\n",
    "                  labels = False, loc = \"upper right\"):\n",
    "    \"\"\"\n",
    "    brief: plots x_vals_list[i] vs y_vals_list[i] and saves to file_title\n",
    "    :param x_vals_list: list of list, list of x_vals to be plotted\n",
    "    :param y_vals_list: list of list, list of y_vals to be plotted agains x_vals\n",
    "    :param file_title: string, filename to save the plote\n",
    "    :param title: string, title of plot\n",
    "    :param xlabel: string, label of x-axis\n",
    "    :param ylabel: string, label of y-axis\n",
    "    :param fig_size: (int, int), figure size\n",
    "    :param title_scale_factor: int, determines size of title\n",
    "    :param labels: boolean=False, if true presents plot with legends\n",
    "    :param loc: string=upper right, determines where legend is\n",
    "    :return:\n",
    "    \"\"\"\n",
    "    fig = plt.figure(figsize=fig_size)\n",
    "    for i in range(len(y_vals_list)):\n",
    "        plt.plot(x_vals_list[i], y_vals_list[i])\n",
    "    title_size = int(title_scale_factor * fig_size[0] / len(title))\n",
    "    plt.title(title, size = title_size)\n",
    "    label_size = int(2/3 * title_size)\n",
    "    plt.xlabel(xlabel, size = label_size)\n",
    "    plt.ylabel(ylabel, size = label_size)\n",
    "    if labels:\n",
    "        plt.legend(labels, loc = loc)\n",
    "    fig.savefig(f'figures/{file_title}.png') # save first frame"
   ]
  },
  {
   "cell_type": "markdown",
   "id": "712fba8c",
   "metadata": {},
   "source": [
    "## FØRSTE DEL <a class=\"anchor\" id=\"FØRSTE\"></a>\n",
    "\n",
    "## SIMPLE MODEL SOMETHING SOMETHINg\n",
    "\n",
    "**HER TAR VI ALL MODELLERING SOM GJENSTÅR I OPPGAVE 1**"
   ]
  },
  {
   "cell_type": "code",
   "execution_count": null,
   "id": "162f3a5b",
   "metadata": {},
   "outputs": [],
   "source": [
    "\n"
   ]
  },
  {
   "cell_type": "markdown",
   "id": "d20ae641",
   "metadata": {},
   "source": []
  },
  {
   "cell_type": "markdown",
   "id": "8477544b",
   "metadata": {},
   "source": [
    "We now calculate the points ... **REF** in equilibrium. "
   ]
  },
  {
   "cell_type": "code",
   "execution_count": 16,
   "id": "37014f70",
   "metadata": {},
   "outputs": [
    {
     "name": "stdout",
     "output_type": "stream",
     "text": [
      "4.039727532995171 -0.2044042827887047 -2.457918503149423 -5.960272467004829\n"
     ]
    }
   ],
   "source": [
    "# 1b - definere yM0, yC0, yB0, yD0 med vannet som nullpunkt for y\n",
    "\n",
    "yM0 = R*np.cos(beta/2)\n",
    "yC0 = R*np.cos(beta/2) - 4*R/(3*np.pi)\n",
    "yB0 = R*np.cos(beta/2) - R*4*np.sin(beta/2)**3/(3*(beta - np.sin(beta)))\n",
    "yD0 = R*np.cos(beta/2) - R\n",
    "\n",
    "print(yM0, yC0, yB0, yD0)"
   ]
  },
  {
   "cell_type": "markdown",
   "id": "a1cdd611",
   "metadata": {},
   "source": [
    "We begin our modelling of the boat with a very simple model. We assume that the centre of mass stays fixed and ignore all forces but the bouyancy. $C$ remains fixed by pretending that the displaced area $A$ is constant and equal to $A_0$.Thus $\\Sigma F_y = F_B - F_G = 0$. Only the torque from the bouyancy, $\\tau_B$, contributes to motion:\n",
    "\n",
    "\n",
    "$$\n",
    "\\begin{equation}\n",
    "\\sum{\\tau} = I_C \\ddot{\\theta} = - F_B h_{CM} \\sin{\\theta}. \\\\\n",
    "\\label{eq:HO_tau}\n",
    "\\end{equation}\n",
    "$$\n",
    "\n",
    "$\\eqref{eq:HO_tau}$ **MÅ FINNE UT AV LIKNINGSNUMMER**\n",
    "\n",
    "We introduce the angular velocity $\\omega = \\dot{\\theta}$ and split the problem into a system of first order equations:\n",
    "\n",
    "$$\n",
    "\\begin{align*}\n",
    "\\frac{\\textrm{d}\\theta}{\\textrm{d}t} &= \\omega \\\\ \n",
    "\\frac{\\textrm{d}\\omega}{\\textrm{d}t} &= - \\frac{F_B h_{CM}}{I_C} \\sin{\\theta}. \\\\\n",
    "\\end{align*}\n",
    "$$\n",
    "\n",
    "Introducing the vector $\\vec{w} = \\begin{bmatrix} \\theta(t) & \\omega(t) \\end{bmatrix}^T$ we can write our problem on the standard form $\\frac{\\textrm{d}\\vec{w}}{\\textrm{d}t} = \\vec f(t, \\vec w) $:\n",
    "\n",
    "$$ \\frac{\\textrm{d}}{\\textrm{d}t} \\begin{bmatrix} \\theta(t) \\\\ \\omega(t) \\end{bmatrix} \n",
    "= \\begin{bmatrix} \\omega \\\\ - \\frac{F_B h_{CM}}{I_C} \\sin{\\theta}\\end{bmatrix}.$$\n",
    "\n",
    "The variable $F_B$ is given by:\n",
    "\n",
    "$$F_B = \\sigma_0 A_0 g = \\frac{\\sigma_0gR^2}{2} (\\beta - \\sin{\\beta}) $$ "
   ]
  },
  {
   "cell_type": "code",
   "execution_count": 17,
   "id": "66949218",
   "metadata": {},
   "outputs": [],
   "source": [
    "def f_harmonic_oscillator(t, w):\n",
    "    \"\"\"\n",
    "    brief: the derivative of the vector w = [theta, omega]\n",
    "           only including the harmonic restorative buoyant force\n",
    "    :param theta: current angle\n",
    "    :param omega: current angular velocity\n",
    "    :return: the derivative\n",
    "    \"\"\"\n",
    "    tau_B = find_tau_buoyant(w[0], find_F_buoyant(find_A(beta)))\n",
    "    return np.array([w[1], tau_B/I_C, w[3], 0, w[5], 0, w[7], 0])"
   ]
  },
  {
   "cell_type": "code",
   "execution_count": 18,
   "id": "856f1a90",
   "metadata": {},
   "outputs": [],
   "source": [
    "# 1d\n",
    "def euler_method(f, t, w, h):\n",
    "    \"\"\"\n",
    "    brief: One step of Eulers method\n",
    "    :param f: the function f(t, w)\n",
    "    :param t: current t-value\n",
    "    :param w: current w-value\n",
    "    :param h: stepsize\n",
    "    :return: the next value for tn and wn\n",
    "    \"\"\"\n",
    "    t_next = t + h\n",
    "    w_next = w + h*f(t, w)\n",
    "    return t_next, w_next\n",
    "\n",
    "def ode_solver(f, t0, t_end, w0, h, method=euler_method):\n",
    "    \"\"\"\n",
    "    brief: Solves the ode w' = f(t, w) with method of choice\n",
    "    :param f: the function f(x)\n",
    "    :param t0: initial t-value\n",
    "    :param t_end: the final t-value\n",
    "    :param w0: initial w-value\n",
    "    :param h: stepsize\n",
    "    :param method: the method used in each step\n",
    "    :return: the next value for tn and wn\n",
    "    \"\"\"\n",
    "    #Create arrays to store values\n",
    "    t_num = np.array([t0])    \n",
    "    w_num = np.array([w0])    \n",
    "\n",
    "    # Values that are updated for each iteration\n",
    "    tn = t0                \n",
    "    wn = w0 \n",
    "    \n",
    "    # Main loop\n",
    "    capsized = boat_has_capsized(wn[0], wn[2])\n",
    "    capsize_index = 0\n",
    "    while tn < t_end - 1.e-10:# and !boat_has_capsized(w[0], ):           # Buffer for truncation errors        \n",
    "        \n",
    "        if not capsized:\n",
    "            capsized      = boat_has_capsized(wn[0], wn[4])\n",
    "            capsize_index = int(tn / h)\n",
    "\n",
    "        if t_end - tn < h:\n",
    "            if capsized:\n",
    "                tn += t_end - tn\n",
    "                wn = np.array([np.pi/2 * np.sign(wn[0]), 0, 0, 0, max(-R, wn[4]-0.2), 0, 0, 0])\n",
    "            else:\n",
    "                tn, wn = method(f, tn, wn, t_end - tn) # Do last step             \n",
    "        else:\n",
    "            if capsized:\n",
    "                tn += h\n",
    "                wn = np.array([np.pi/2 * np.sign(wn[0]), 0, 0, 0, max(-R, wn[4]-0.2), 0, 0, 0])\n",
    "            else:\n",
    "                tn, wn = method(f, tn, wn, h)    # Do one step \n",
    "\n",
    "        # Add values to array\n",
    "        t_num = np.append(t_num,tn)\n",
    "        w_num = np.concatenate((w_num, np.array([wn])))\n",
    "    \n",
    "    return t_num, w_num"
   ]
  },
  {
   "cell_type": "markdown",
   "id": "81c41159",
   "metadata": {},
   "source": [
    "**RETTFERDIGGJØR VALG AV h**\n",
    "\n",
    "We will now solve the equation with Eulers method. We start the ship at $\\theta_0 = 20^\\circ$ and $\\omega_0 = 0$. We start the iterations at $t=0\\textrm{ s}$ and let it run for $20 \\textrm{s}$."
   ]
  },
  {
   "cell_type": "code",
   "execution_count": 19,
   "id": "2a30585b",
   "metadata": {},
   "outputs": [
    {
     "name": "stderr",
     "output_type": "stream",
     "text": [
      "MovieWriter ffmpeg unavailable; using Pillow instead.\n"
     ]
    },
    {
     "name": "stdout",
     "output_type": "stream",
     "text": [
      "0\n",
      "0\n"
     ]
    },
    {
     "data": {
      "image/png": "[encoded data removed]",
      "text/plain": [
       "<Figure size 648x360 with 1 Axes>"
      ]
     },
     "metadata": {
      "needs_background": "light"
     },
     "output_type": "display_data"
    },
    {
     "data": {
      "image/png": "[encoded data removed]",
      "text/plain": [
       "<Figure size 432x288 with 1 Axes>"
      ]
     },
     "metadata": {
      "needs_background": "light"
     },
     "output_type": "display_data"
    }
   ],
   "source": [
    "# 1d) \n",
    "\n",
    "t0 = 0\n",
    "t_end = 20\n",
    "w0 = np.array([21*np.pi/180, 0, 0, 0, yC0, 0, 0, 0])\n",
    "h_list = [0.01, 0.001]\n",
    "times = []\n",
    "theta = []\n",
    "yC    = []\n",
    "for h in h_list:\n",
    "    t_num, w_num = ode_solver(f_harmonic_oscillator, t0, t_end, w0, h, method=euler_method)\n",
    "    times.append(t_num)\n",
    "    theta.append(np.array([w_num[i][0] for i in range(len(w_num))]))\n",
    "    yC.append(np.array([w_num[i][4] for i in range(len(w_num))]))\n",
    "    \n",
    "plot_function(times, theta, f'HO_euler_3h', title = f\"Harmonic Oscillator with Eulers method\",\n",
    "                  xlabel = r\"$t$ [s]\", ylabel = r\"$\\theta$ [rad]\", fig_size = (9, 5), title_scale_factor = 100,\n",
    "                  labels = [f\"$h$ = {h}\" for h in h_list], loc = \"upper right\")\n",
    "\n",
    "#def animate_boat(t, theta, x_C, y_C, s_L=[], gjerde=False, stepsize=0.01, vis_akse_verdier=False, gif_name = \"TEST\"):\n",
    "animate_boat(times[0][::10], theta[0][::10], 0*yC[0][::10], yC[0][::10])"
   ]
  },
  {
   "cell_type": "markdown",
   "id": "64e2f2cd",
   "metadata": {},
   "source": [
    "Compare solution to HO:\n",
    "\n",
    "With the small angle approximation our system becomes:\n",
    "\n"
   ]
  },
  {
   "cell_type": "code",
   "execution_count": 20,
   "id": "0448def4",
   "metadata": {},
   "outputs": [
    {
     "data": {
      "image/png": "[encoded data removed]",
      "text/plain": [
       "<Figure size 648x360 with 1 Axes>"
      ]
     },
     "metadata": {
      "needs_background": "light"
     },
     "output_type": "display_data"
    },
    {
     "data": {
      "image/png": "[encoded data removed]",
      "text/plain": [
       "<Figure size 648x360 with 1 Axes>"
      ]
     },
     "metadata": {
      "needs_background": "light"
     },
     "output_type": "display_data"
    }
   ],
   "source": [
    "# 1e\n",
    "\n",
    "def f_harmonic_approxilator(t, w):\n",
    "    \"\"\"\n",
    "    brief: the derivative of the vector w = [theta, omega]\n",
    "           only including the harmonic restorative buoyant force,\n",
    "           now with small angle approximation\n",
    "    :param theta: current angle\n",
    "    :param omega: current angular velocity\n",
    "    :return: the derivative\n",
    "    \"\"\"\n",
    "    F_B = find_F_buoyant(find_A(beta))\n",
    "    return np.array([w[1], - F_B*h_CM/I_C*w[0], w[3], 0, w[5], 0, w[7], 0])\n",
    "\n",
    "h = 0.001\n",
    "Theta = [20*np.pi/180, 1*np.pi/180]\n",
    "\n",
    "for theta in Theta:\n",
    "    w0 = [theta, 0, yC0, 0, 0, 0, 0, 0]\n",
    "    \n",
    "    t_approx, w_approx = ode_solver(f_harmonic_approxilator, t0, t_end, w0, h, method=euler_method)\n",
    "    theta_approx = np.transpose(w_approx)[0]\n",
    "    \n",
    "    t_exact, w_exact   = ode_solver(f_harmonic_oscillator, t0, t_end, w0, h, method=euler_method)\n",
    "    theta_exact = np.transpose(w_exact)[0]\n",
    "    \n",
    "    plot_function([t_approx, t_exact], [theta_approx, theta_exact], f'small_angle_comp_{round(theta, 2)}', \n",
    "                  title = r\"Comparing exact solution with small angle approximation at $\\theta =$ \" + f\"{round(theta, 2)}\",\n",
    "                  xlabel = r\"$t$ [s]\", ylabel = r\"$\\theta$ [rad]\", fig_size = (9, 5), title_scale_factor = 120,\n",
    "                  labels = [\"Approx\", \"Exact\"], loc = \"upper right\")\n",
    "    "
   ]
  },
  {
   "cell_type": "code",
   "execution_count": 21,
   "id": "b319acba",
   "metadata": {},
   "outputs": [],
   "source": [
    "# 1f\n",
    "\n",
    "def RK4_method(f, t, w, h):\n",
    "    \"\"\"\n",
    "    brief: One step of RK4 method\n",
    "    :param f: the function f(t, w)\n",
    "    :param t: current t-value\n",
    "    :param w: current w-value\n",
    "    :param h: stepsize\n",
    "    :return: the next value for tn and wn\n",
    "    \"\"\"\n",
    "    k1 = f(t, w)\n",
    "    k2 = f(t + h/2, w + h*k1/2)\n",
    "    k3 = f(t + h/2, w + h*k2/2)\n",
    "    k4 = f(t + h, w + h*k3)    \n",
    "    \n",
    "    t_next = t + h\n",
    "    w_next = w + h/6*(k1 + 2*k2 + 2*k3 + k4)\n",
    "    return t_next, w_next"
   ]
  },
  {
   "cell_type": "markdown",
   "id": "e45ba5ed",
   "metadata": {},
   "source": [
    "UTLEDE ANALYTISK\n",
    "\n",
    "$\\eqref{eq:HO_tau}$\n",
    "\n",
    "$$\n",
    "\\ddot{\\theta} - \\frac{F_B h_{CM}}{I_C} {\\theta} = 0\\\\\n",
    "$$\n",
    "\n",
    "$$\n",
    "\\tilde{\\theta} (t) = \\theta_0 cos\\left(\\sqrt{\\frac{F_B h_{CM}}{I_C}}t\\right).\n",
    "$$"
   ]
  },
  {
   "cell_type": "code",
   "execution_count": 22,
   "id": "64869c8f",
   "metadata": {},
   "outputs": [],
   "source": [
    "# 1g\n",
    "def analytic_harmonic_oscillator(time_array, theta0):\n",
    "    F_B = find_F_buoyant(find_A(beta))\n",
    "    return theta0*np.cos(np.sqrt(F_B*h_CM/I_C)*time_array)"
   ]
  },
  {
   "cell_type": "code",
   "execution_count": 23,
   "id": "f953f54c",
   "metadata": {},
   "outputs": [
    {
     "data": {
      "application/vnd.jupyter.widget-view+json": {
       "model_id": "36a2dc99357b4f188be0b680d7cb475f",
       "version_major": 2,
       "version_minor": 0
      },
      "text/plain": [
       "  0%|          | 0/100 [00:00<?, ?it/s]"
      ]
     },
     "metadata": {},
     "output_type": "display_data"
    }
   ],
   "source": [
    "#1h\n",
    "\n",
    "N = 100\n",
    "h_array = np.linspace(1e-2, 1e-3, N)\n",
    "global_error_euler = np.zeros(N)\n",
    "global_error_RK4   = np.zeros(N)\n",
    "w0 = [0.01, 0, 0, 0, yC0, 0, 0, 0]\n",
    "t0 = 0\n",
    "t_end = 20\n",
    "for i in tqdm(range(len(h_array))):\n",
    "    h = h_array[i]\n",
    "    theta_anal  = analytic_harmonic_oscillator(t_end, w0[0])\n",
    "    o, w_euler = ode_solver(f_harmonic_approxilator, t0, t_end, w0, h, method=euler_method)\n",
    "    o, w_RK4   = ode_solver(f_harmonic_approxilator, t0, t_end, w0, h, method=RK4_method)\n",
    "    global_error_euler[i] = np.abs(theta_anal - w_euler[-1][0])\n",
    "    global_error_RK4[i]   = np.abs(theta_anal - w_RK4[-1][0])"
   ]
  },
  {
   "cell_type": "code",
   "execution_count": 24,
   "id": "ab1549ff",
   "metadata": {},
   "outputs": [
    {
     "data": {
      "image/png": "[encoded data removed]",
      "text/plain": [
       "<Figure size 648x360 with 1 Axes>"
      ]
     },
     "metadata": {
      "needs_background": "light"
     },
     "output_type": "display_data"
    },
    {
     "data": {
      "image/png": "[encoded data removed]",
      "text/plain": [
       "<Figure size 648x360 with 1 Axes>"
      ]
     },
     "metadata": {
      "needs_background": "light"
     },
     "output_type": "display_data"
    },
    {
     "data": {
      "image/png": "[encoded data removed]",
      "text/plain": [
       "<Figure size 648x360 with 1 Axes>"
      ]
     },
     "metadata": {
      "needs_background": "light"
     },
     "output_type": "display_data"
    }
   ],
   "source": [
    "plot_function([h_array, h_array], [np.log10(global_error_euler), np.log10(global_error_RK4)], f'error_RK4_VS_Euler', \n",
    "                  title = r\"Comparing the global error in RK4 and Euler LOGLOGLOG\",\n",
    "                  xlabel = r\"$h$\", ylabel = r\"$\\theta$ [rad]\", fig_size = (9, 5), title_scale_factor = 110,\n",
    "                  labels = [\"Euler\", \"RK4\"], loc = \"upper right\")\n",
    "\n",
    "plot_function([np.log(h_array)], [np.log(global_error_euler)], f'error_Euler', \n",
    "                  title = r\"Global error using Euler\",\n",
    "                  xlabel = r\"$h$\", ylabel = r\"$\\theta$ [rad]\", fig_size = (9, 5), title_scale_factor = 80,\n",
    "                  labels = False, loc = \"upper right\")\n",
    "\n",
    "plot_function([np.log(h_array)], [np.log(global_error_RK4)], f'error_RK4', \n",
    "                  title = r\"Global error using RK4\",\n",
    "                  xlabel = r\"$h$\", ylabel = r\"$\\theta$ [rad]\", fig_size = (9, 5), title_scale_factor = 80,\n",
    "                  labels = False, loc = \"upper right\")"
   ]
  },
  {
   "cell_type": "markdown",
   "id": "bdba03a0",
   "metadata": {},
   "source": [
    "**VI MÅ SE PÅ ØVINGA DER MAN FINNER ORDEN GRAFISK...**"
   ]
  },
  {
   "cell_type": "code",
   "execution_count": 25,
   "id": "b232c8a6",
   "metadata": {},
   "outputs": [],
   "source": [
    "# # HVORDAN FÅ FIGURTEKST PÅ PLOT\n",
    "# from matplotlib import pyplot as plt\n",
    "# import numpy as np\n",
    "# x=np.arange(-10,10,0.1)\n",
    "# txt=\"Figure 3. Values collected by user4545 are plotted.\"\n",
    "# plt.figtext(0.5, 0.01, txt, wrap=True, horizontalalignment='center', fontsize=14)\n",
    "# plt.plot(x,x**3);"
   ]
  },
  {
   "cell_type": "code",
   "execution_count": null,
   "id": "e933554c",
   "metadata": {},
   "outputs": [],
   "source": []
  },
  {
   "cell_type": "markdown",
   "id": "401f553e",
   "metadata": {},
   "source": [
    "## O2 <a class=\"anchor\" id=\"O2\"></a>"
   ]
  },
  {
   "cell_type": "code",
   "execution_count": null,
   "id": "4eb71900",
   "metadata": {},
   "outputs": [],
   "source": []
  },
  {
   "cell_type": "markdown",
   "id": "e7cf2f26",
   "metadata": {},
   "source": [
    "**Varying displaced-water-area**\n",
    "\n",
    "We will now include the effekt of changing the area of displaced water. Our system becomes\n",
    "\n",
    "$$ma_y = F_B(\\gamma) - mg$$\n",
    "\n",
    "$$ \\frac{\\textrm{d}}{\\textrm{d}t} \\begin{bmatrix} \\theta(t) \\\\\n",
    "                           \\omega(t) \\\\\n",
    "                           x_C(t) \\\\\n",
    "                           v_{C, x}(t) \\\\\n",
    "                           y_C(t) \\\\\n",
    "                           v_{C, y}(t) \\\\\n",
    "                           s_L(t) \\\\\n",
    "                           v_{L}(t)\\end{bmatrix} \n",
    "= \\begin{bmatrix} \\omega(t) \\\\ \n",
    "                  \\tau_B(t)/I_C \\\\\n",
    "                  0 \\\\\n",
    "                  0 \\\\\n",
    "                  v_{C, y}(t) \\\\\n",
    "                  (F_B(t)-F_G)/m \\\\\n",
    "                  0\\\\\n",
    "                  0\\end{bmatrix}.$$\n"
   ]
  },
  {
   "cell_type": "code",
   "execution_count": 26,
   "id": "b7491b48",
   "metadata": {},
   "outputs": [],
   "source": [
    "# 2a\n",
    "\n",
    "def f_bouncing(t, w):\n",
    "    \"\"\"\n",
    "\n",
    "    \"\"\"\n",
    "    gamma = find_gamma(w[0], w[4])\n",
    "    A     = find_A(gamma)\n",
    "    F_B   = find_F_buoyant(A)\n",
    "    tau_B = find_tau_buoyant(w[0], F_B)\n",
    "    \n",
    "    dtheta = w [1]\n",
    "    domega = tau_B/I_C\n",
    "    dy_C   = w [5]\n",
    "    dv_Cy  = (F_B + F_G())/m\n",
    "    return np.array([dtheta, domega, 0, 0, dy_C, dv_Cy, 0, 0])"
   ]
  },
  {
   "cell_type": "code",
   "execution_count": 27,
   "id": "4ad6dd64",
   "metadata": {},
   "outputs": [
    {
     "name": "stderr",
     "output_type": "stream",
     "text": [
      "MovieWriter ffmpeg unavailable; using Pillow instead.\n"
     ]
    },
    {
     "name": "stdout",
     "output_type": "stream",
     "text": [
      "0\n",
      "0\n"
     ]
    },
    {
     "data": {
      "image/png": "[encoded data removed]",
      "text/plain": [
       "<Figure size 432x288 with 1 Axes>"
      ]
     },
     "metadata": {
      "needs_background": "light"
     },
     "output_type": "display_data"
    }
   ],
   "source": [
    "# 2b\n",
    "\n",
    "w0 = [20*np.pi/180, 0, 0, 0, 0, 0, 0, 0]\n",
    "h = 0.01\n",
    "t_vals, w_vals = ode_solver(f_bouncing, t0, t_end, w0, h, method=RK4_method)\n",
    "theta = np.transpose(w_vals)[0]\n",
    "xC = np.transpose(w_vals)[2]\n",
    "yC = np.transpose(w_vals)[4]\n",
    "animate_boat(t_vals[::10], theta[::10], xC[::10], yC[::10], gjerde = True, vis_akse_verdier = False)"
   ]
  },
  {
   "cell_type": "code",
   "execution_count": 28,
   "id": "3294406b",
   "metadata": {},
   "outputs": [
    {
     "name": "stdout",
     "output_type": "stream",
     "text": [
      "[0.000e+00 1.000e-02 2.000e-02 ... 1.998e+01 1.999e+01 2.000e+01]\n"
     ]
    },
    {
     "data": {
      "image/png": "[encoded data removed]",
      "text/plain": [
       "<Figure size 432x288 with 1 Axes>"
      ]
     },
     "metadata": {
      "needs_background": "light"
     },
     "output_type": "display_data"
    },
    {
     "data": {
      "text/plain": [
       "[<matplotlib.lines.Line2D at 0x1be1f3f24f0>]"
      ]
     },
     "execution_count": 28,
     "metadata": {},
     "output_type": "execute_result"
    },
    {
     "data": {
      "image/png": "[encoded data removed]",
      "text/plain": [
       "<Figure size 432x288 with 1 Axes>"
      ]
     },
     "metadata": {
      "needs_background": "light"
     },
     "output_type": "display_data"
    }
   ],
   "source": [
    "print(t_vals)\n",
    "plt.plot(t_vals, theta)\n",
    "plt.show()\n",
    "plt.plot(t_vals, yC)"
   ]
  },
  {
   "cell_type": "markdown",
   "id": "10447939",
   "metadata": {},
   "source": [
    "**Including the cargo**"
   ]
  },
  {
   "cell_type": "code",
   "execution_count": null,
   "id": "b1ccf7a9",
   "metadata": {},
   "outputs": [],
   "source": []
  },
  {
   "cell_type": "code",
   "execution_count": 29,
   "id": "ea3e8d42",
   "metadata": {},
   "outputs": [],
   "source": [
    "# 2c\n",
    "##LAST -> masse endres og vi må beregne likevektstørrelser på nytt!!##\n",
    "\n",
    "def f_cargo_without_fence(t, w):\n",
    "    \"\"\"\n",
    "    Her skal vi kaste av klossen. SKråttkast og difflikning i vannet? neida... den er jo uendelig dense, dårlig med oppdrift da\n",
    "\n",
    "    \n",
    "    Når |s| > R må vi fjærne lasten fra problemet på et vis. \n",
    "\n",
    "    \n",
    "    \"\"\"\n",
    "    return \"hei\"\n",
    "\n",
    "def f_cargo_with_fence(t, w):\n",
    "    \"\"\"\n",
    "    Her må vi sjekke om lasten er på kanten. Hvis helningen er ned mot aktuell kant\n",
    "    skal ikke klossen aksellerere langs dekket. \n",
    "    \"\"\"\n",
    "    \n",
    "    return \"hei\"\n",
    "\n"
   ]
  },
  {
   "cell_type": "code",
   "execution_count": 30,
   "id": "41fc49ba",
   "metadata": {},
   "outputs": [],
   "source": [
    "# 2d"
   ]
  },
  {
   "cell_type": "code",
   "execution_count": 31,
   "id": "bb6eb98d",
   "metadata": {},
   "outputs": [],
   "source": [
    "# 2e"
   ]
  },
  {
   "cell_type": "code",
   "execution_count": 32,
   "id": "32cadc58",
   "metadata": {},
   "outputs": [],
   "source": [
    "# 2f"
   ]
  },
  {
   "cell_type": "code",
   "execution_count": 33,
   "id": "4ae25181",
   "metadata": {},
   "outputs": [],
   "source": [
    "# 2g"
   ]
  },
  {
   "cell_type": "code",
   "execution_count": 34,
   "id": "b9c0a1af",
   "metadata": {},
   "outputs": [],
   "source": [
    "# 2h"
   ]
  },
  {
   "cell_type": "code",
   "execution_count": null,
   "id": "eec3b758",
   "metadata": {},
   "outputs": [],
   "source": []
  },
  {
   "cell_type": "markdown",
   "id": "3542c19c",
   "metadata": {},
   "source": [
    "## Conclusion <a class=\"anchor\" id=\"conclusion\"></a>"
   ]
  },
  {
   "cell_type": "markdown",
   "id": "360f68a4",
   "metadata": {},
   "source": [
    "We have found, we have shown"
   ]
  },
  {
   "cell_type": "markdown",
   "id": "f348c13c",
   "metadata": {},
   "source": [
    "## KODEBANK, søppel++"
   ]
  },
  {
   "cell_type": "code",
   "execution_count": 35,
   "id": "377e950d",
   "metadata": {},
   "outputs": [],
   "source": [
    "# def victor():\n",
    "#     def func(x, y):\n",
    "#         val = 2.8*x**2 * (x**2*(2.5*x**2+y**2-2)+1.2*y**2 * (y*(3*y-0.75)-6.0311)+3.09)+0.98*y**2 * ((y**2-3.01)*y**2+3)-1.005\n",
    "#         return abs(val) < 0.02\n",
    "#     n = 3000\n",
    "#     x = np.linspace(-2, 2, n)\n",
    "#     y = np.linspace(-2, 2, n)\n",
    "#     grid = np.zeros((n, n))\n",
    "#     y, x = np.meshgrid(x, y)\n",
    "#     z = func(x, y)\n",
    "#     z = z[:-1, :-1]\n",
    "#     z_min, z_max = 0, 1\n",
    "#     fig, ax = plt.subplots()\n",
    "#     c = ax.pcolormesh(x, y, z, vmin=z_min, vmax=z_max)\n",
    "#     ax.set_title('Viktooooor')\n",
    "#     ax.axis([x.min(), x.max(), y.min(), y.max()])\n",
    "#     fig.colorbar(c, ax=ax)\n",
    "#     plt.show()\n",
    "\n",
    "# victor()\n"
   ]
  },
  {
   "cell_type": "code",
   "execution_count": 36,
   "id": "e97e4ac5",
   "metadata": {},
   "outputs": [
    {
     "ename": "SyntaxError",
     "evalue": "invalid syntax (Temp/ipykernel_119028/177895107.py, line 1)",
     "output_type": "error",
     "traceback": [
      "\u001b[1;36m  File \u001b[1;32m\"C:\\Users\\Trond\\AppData\\Local\\Temp/ipykernel_119028/177895107.py\"\u001b[1;36m, line \u001b[1;32m1\u001b[0m\n\u001b[1;33m    When rotating about $C$ the point $M$ moves in a circular motion. When rotating an angle $\\theta$ its coordinates change:\u001b[0m\n\u001b[1;37m         ^\u001b[0m\n\u001b[1;31mSyntaxError\u001b[0m\u001b[1;31m:\u001b[0m invalid syntax\n"
     ]
    }
   ],
   "source": [
    "When rotating about $C$ the point $M$ moves in a circular motion. When rotating an angle $\\theta$ its coordinates change:\n",
    "\n",
    "$$\n",
    "\\begin{align*}\n",
    "\\Delta_{\\theta} x_M &= -h_{CM} \\sin{\\theta} \\\\\n",
    "\\Delta_{\\theta} y_M &= h_{CM}(\\cos{\\theta}-1)\n",
    "\\end{align*}\n",
    "$$\n",
    "\n",
    "When the boat rotates about $C$ there is no change in $\\vec{r}_C$. Since $D$ lies at a constant vertical distance from $M$, its vertical displacement due to rotation is the same as $M$. $B$ is allways a distance $Y_{MB}(\\gamma)$ below $M$. If $C$ translates $\\Delta \\vec{r}_C = \\Delta x_C \\hat{x} + \\Delta y_C \\hat{y}$, so does every other point on the boat. We can now write every point in terms of $y_C$ and $\\theta$:\n",
    "TUNGVINDT...\n",
    "$$\n",
    "\\begin{align*}\n",
    "y_M (\\theta, y_C) &= y_M^0 + \\Delta_{\\theta} y_M + \\Delta y_C = R \\cos{\\beta/2} - h_{CM} \\sin{\\theta} + y_C-y_C^0 \\\\\n",
    "y_B (\\theta, y_C) &= y_M + Y_{MB}(\\gamma) + \\Delta y_C         = y_B(\\theta = 0) + \\Delta y_C       = y_M^0 - Y_{MB}(\\beta)= R \\cos{\\beta/2} - R\\cdot \\frac{4 \\sin^3{\\beta/2}}{3(\\beta - \\sin{\\beta})} \\\\\n",
    "y_D (\\theta, y_C) &= y_M + R = y_M^0 - R= R \\cos{\\beta/2} - R\n",
    "\\end{align*}\n",
    "$$\n",
    "TUNGVINDT...\n"
   ]
  },
  {
   "cell_type": "markdown",
   "id": "8bed2f52",
   "metadata": {},
   "source": [
    "Tyngdepunktet til vannet:\n",
    "\n",
    "\n",
    "I likevekt har vi:\n",
    "\n",
    "$$\n",
    "\\begin{equation}\n",
    "\\mathbf{r} \\equiv \\begin{bmatrix}\n",
    "y \\\\\n",
    "\\theta\n",
    "\\end{bmatrix}\n",
    "\\label{eq:vector_ray}\n",
    "\\end{equation}\n",
    "$$\n",
    "\n",
    "Vector **r** is defined by equation $\\eqref{eq:vector_ray}$\n",
    "$\\eqref{eq:vector_ray}$\n",
    "\n",
    "En vinkel $\\theta$ og en forflytning $\\Delta y$ fra likevekt har vi:\n",
    "$$\n",
    "\\begin{align}\n",
    "y_M(\\theta ) &= R \\cos{\\beta/2} + (4R/3\\pi)(\\cos{\\theta}-1) + \\Delta y\\\\\n",
    "y_M(\\theta) &= R \\cos{\\beta/2} + (4R/3\\pi)(\\cos{\\theta}-1) + \\Delta y\\\\\n",
    "y_M(\\theta) &= R \\cos{\\beta/2} + (4R/3\\pi)(\\cos{\\theta}-1) + \\Delta y\\\\\n",
    "y_M(\\theta) &=69\n",
    "\\end{align}\n",
    "$$\n",
    "\n",
    "\n"
   ]
  },
  {
   "cell_type": "code",
   "execution_count": null,
   "id": "f64c4035",
   "metadata": {},
   "outputs": [],
   "source": [
    "'''Denne koden animerer bevegelsen til båtet, gitt at dere sender inn arrays som inneholder tidsverdier t,\n",
    "skipets helningsvinkel theta, x- og y-koordinatet til skipets massesenter. Disse arraysene brukes i funksjonen\n",
    "definert nederst \"animate_deck_movement\". Den grønne sirkelen viser posisjonen til skipets massesenter\n",
    "Man kan sende inn optional argumenter, disse står beskrevet i funksjonen. For eksempel kan man sende inn et array\n",
    "som inneholder lastens posisjon relativt metasenteret. Lasten vil da animeres som en rød sirkel.\n",
    "'''\n",
    "import matplotlib.pyplot as plt\n",
    "from matplotlib import animation\n",
    "import numpy as np\n",
    "\n",
    "\n",
    "\n",
    "# M = metasenteret = midt paa dekk\n",
    "# C = skipets tyngdepunkt\n",
    "\n",
    "\n",
    "R = 10  # skipets radius (m)\n",
    "h = 4 * R / (3 * np.pi)  # avstand M - C\n",
    "\n",
    "def init_anim():\n",
    "    \"\"\" Initialises the animation.\n",
    "    \"\"\"\n",
    "\n",
    "    global ax, boat, deck, last, CM, venstre_gjerde, høyre_gjerde, textbox_theory\n",
    "    boat, = plt.plot([], [],\n",
    "                    color=\"k\", linewidth=1)\n",
    "    deck, = plt.plot([], [], color=\"k\", linewidth=1)\n",
    "    sea_surface, = plt.plot([-R*10, R* 10], [0, 0], color='blue', linewidth=2)  # The surface\n",
    "    last, = plt.plot([], [], color=\"r\", marker=\"o\", markersize=10)\n",
    "    CM, = plt.plot([], [], color=\"g\", marker=\"o\", markersize=10)\n",
    "    venstre_gjerde, = plt.plot([], [], color=\"k\", marker=\"|\", markersize=25)\n",
    "    høyre_gjerde, = plt.plot([], [], color=\"k\", marker=\"|\", markersize=25)\n",
    "    ax.set_xlim([-R*1.3, R* 1.3])\n",
    "    ax.set_ylim([-R*1.1, R* 1.1])\n",
    "    ax.set_xlabel('$x$')\n",
    "    ax.set_ylabel('$y$')\n",
    "    ax.set_aspect(\"equal\")\n",
    "    props = dict(boxstyle='round', facecolor='wheat', alpha=0.5)\n",
    "    textbox_theory = ax.text(0.775, 0.95, '', transform=ax.transAxes, fontsize=12,\n",
    "                             verticalalignment='top', bbox=props)\n",
    "\n",
    "    return ax, boat, deck, last, CM,venstre_gjerde,høyre_gjerde, textbox_theory\n",
    "\n",
    "\n",
    "def animate(M, theta, t, x_C, y_C, s_L, gjerde=False):\n",
    "    global ax, boat, deck, last, CM, venstre_gjerde, høyre_gjerde, textbox_theory\n",
    "    ax.set_xlim([-R * 1.1 + np.amin(x_C), R * 1.1 + np.amax(x_C)])\n",
    "    ax.set_ylim([-R*1.1, R* 1.1])\n",
    "    angle_values = np.linspace(0, np.pi, 100)\n",
    "    metasenter_x = x_C[M] - h * np.sin(theta[M])\n",
    "    metasenter_y = y_C[M] + h * np.cos(theta[M])\n",
    "    xs = R * np.cos(angle_values + np.pi + theta[M]) + metasenter_x\n",
    "    ys = R * np.sin(angle_values + np.pi + theta[M]) + metasenter_y\n",
    "    boat.set_data(xs, ys)\n",
    "    deck.set_data([xs[0], xs[-1]], [ys[0], ys[-1]])\n",
    "    if s_L[M] !=-42:\n",
    "        last.set_data(metasenter_x + s_L[M] * np.cos(theta[M]),\n",
    "                      metasenter_y + s_L[M] * np.sin(theta[M]))\n",
    "    CM.set_data(x_C[M], y_C[M])\n",
    "    if gjerde:\n",
    "        venstre_gjerde.set_data([metasenter_x - R * np.cos(theta[M])], [metasenter_y - R * np.sin(theta[M])])\n",
    "        høyre_gjerde.set_data([metasenter_x + R * np.cos(theta[M])], [metasenter_y + R * np.sin(theta[M])])\n",
    "    theta_string= r'$\\theta = %.2f$' % (theta[M] * 180 / np.pi) + r\"$\\degree$\"\n",
    "    time_string = '$t =  %.2f$' % (t[M])\n",
    "    textbox_theory.set_text(\n",
    "        theta_string + '\\n' + time_string)\n",
    "\n",
    "    M += 1\n",
    "    return ax, boat, deck, last, CM, venstre_gjerde, høyre_gjerde, textbox_theory\n",
    "\n",
    "\n",
    "def animate_deck_movement(t, theta, x_C, y_C, s_L=[], gjerde=False, stepsize=0.01, vis_akse_verdier=False):\n",
    "    \"\"\"\n",
    "\n",
    "    :param t: Array som inneholder tidsverdiene man har beregnet \\vec{w} for systemet\n",
    "    :param theta: Array som inneholder utslagsvinkelen til skipet\n",
    "    :param x_C: Array som inneholder massesenterets x-koordinat\n",
    "    :param y_C: Array som inneholder massesenterets y-koordinat\n",
    "    :param s_L: Optional array som inneholder lastens posisjon relativt massesenteret\n",
    "    :param gjerde: Optional Boolean som forteller om vi skal tegne inn gjerder på skipet\n",
    "    :param stepsize: Hvor lang tid som skal gå mellom hver frame\n",
    "    :param vis_akse_verdier: Hvis akse-verdier vises går animasjonen litt mer hakkete, men man kan se tallverdier\n",
    "    :return: Animasjon som viser dynamikken til skipet\n",
    "    \"\"\"\n",
    "    global fig, ax\n",
    "    fig, ax = plt.subplots()\n",
    "    dt = t[1] - t[0]\n",
    "    skips = max(int(stepsize / dt), 1)\n",
    "    theta_anim = theta[::skips]\n",
    "    t_anim = t[::skips]\n",
    "    x_C_anim = x_C[::skips]\n",
    "    y_C_anim = y_C[::skips]\n",
    "    if len(s_L) == 0:\n",
    "        s_L_anim = -42 * np.ones(len(theta_anim))\n",
    "    else:\n",
    "        s_L_anim = s_L[::skips]\n",
    "    h_anim = animation.FuncAnimation(fig, animate, init_func=init_anim, frames=len(t_anim) - 1, interval=1,\n",
    "                                     blit=not vis_akse_verdier,\n",
    "                                     fargs=(theta_anim, t_anim, x_C_anim, y_C_anim, s_L_anim, gjerde))\n",
    "    \n",
    "    h_anim.save(f'test.gif')\n",
    "    fig.savefig('test.jpg')\n",
    "    plt.show()\n",
    "\n",
    "    \n",
    "N = 1000\n",
    "t = np.linspace(0, 20, N)\n",
    "theta = analytic_harmonic_oscillator(t, 0.2)\n",
    "xC = np.zeros(N)\n",
    "yC = yC0*np.ones(N)\n",
    "animate_deck_movement(t, theta, xC, yC)"
   ]
  },
  {
   "cell_type": "code",
   "execution_count": null,
   "id": "88e987ca",
   "metadata": {},
   "outputs": [],
   "source": [
    "\n",
    "    \n",
    "# def analytic_harmonic_oscillator(time_array, theta0):\n",
    "#     return theta0*np.cos(np.sqrt(F_B*h_CM/I_C)*time_array)\n",
    "\n",
    "# F_B = 500\n",
    "# h_CM = 4 # TEST\n",
    "# I_C  = 345 # TEST\n",
    "# yC0 = -0.5\n",
    "\n",
    "# N = 1000\n",
    "# t = np.linspace(0, 20, N)\n",
    "# theta = analytic_harmonic_oscillator(t, 0.2)\n",
    "# xC = np.zeros(N)\n",
    "# yC = yC0*np.ones(N)\n",
    "# animate_boat(t[::10], theta[::10], xC, yC, gjerde = True, vis_akse_verdier = False)\n",
    "\n",
    "\n"
   ]
  }
 ],
 "metadata": {
  "kernelspec": {
   "display_name": "Python 3 (ipykernel)",
   "language": "python",
   "name": "python3"
  },
  "language_info": {
   "codemirror_mode": {
    "name": "ipython",
    "version": 3
   },
   "file_extension": ".py",
   "mimetype": "text/x-python",
   "name": "python",
   "nbconvert_exporter": "python",
   "pygments_lexer": "ipython3",
   "version": "3.9.7"
  }
 },
 "nbformat": 4,
 "nbformat_minor": 5
}
